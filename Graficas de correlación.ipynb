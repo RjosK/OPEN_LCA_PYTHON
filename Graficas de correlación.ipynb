{
 "cells": [
  {
   "cell_type": "code",
   "execution_count": null,
   "id": "9ebf14e6",
   "metadata": {},
   "outputs": [],
   "source": [
    "import pandas as pd\n",
    "import numpy as np\n",
    "import matplotlib.pyplot as plt\n",
    "import seaborn as sns\n",
    "from scipy.stats import pearsonr\n",
    "from pathlib import Path "
   ]
  },
  {
   "cell_type": "markdown",
   "id": "9e64cf4c",
   "metadata": {},
   "source": [
    "Se hace hace una grafica de correlación con las categorias de Minpoint H, usando cada una de las carpetas que hay ECOINVENT "
   ]
  },
  {
   "cell_type": "code",
   "execution_count": null,
   "id": "a18477cd",
   "metadata": {},
   "outputs": [],
   "source": [
    "Categorias = [\n",
    "    \"A_agri.xlsx\",\n",
    "    \"B_mining.xlsx\",\n",
    "    \"C10_food.xlsx\",\n",
    "    \"C13_textil.xlsx\",\n",
    "    \"C16_wood.xlsx\",\n",
    "    \"C17_paper.xlsx\",\n",
    "    \"C18_printing.xlsx\",\n",
    "    \"C19_petroleum.xlsx\",\n",
    "    \"C22_plastic.xlsx\",\n",
    "    \"C24_metals.xlsx\",\n",
    "    \"D351_electricity.xlsx\",\n",
    "    \"H_transport.xlsx\",\n",
    "    \"Recycled.xlsx\"\n",
    "]\n",
    "\n",
    "for i in Categorias: \n",
    "    # 1. Importar archivo Excel\n",
    "    archivo_excel = i \n",
    "    data = pd.read_excel(archivo_excel, header=None)\n",
    "\n",
    "    # 2. Extraer nombres y datos\n",
    "    names = data.iloc[:, 0].tolist()  # primera columna\n",
    "    lci = data.iloc[:, 1:].dropna(how='all')\n",
    "\n",
    "    # 3. Asegurar que todos los datos sean numéricos\n",
    "    lci = lci.apply(pd.to_numeric, errors='coerce')\n",
    "\n",
    "    # 4. Número de filas en lci\n",
    "    nd = len(lci)\n",
    "\n",
    "    # 5. Número de columnas (por fila original)\n",
    "    num_columns = data.shape[1] \n",
    "\n",
    "    # 6. Calcular matriz de correlación\n",
    "    corr_matrix = lci.corr(method='pearson')  # alternativa simple a `Outer[Correlation]`\n",
    "\n",
    "    # 7. Visualizar matriz con seaborn\n",
    "    plt.figure(figsize=(10, 8))\n",
    "    sns.heatmap(corr_matrix, cmap='coolwarm', annot=True, vmin=corr_matrix.min().min(), vmax=corr_matrix.max().max(),\n",
    "                xticklabels=range(1, 19), yticklabels=range(1, 19))\n",
    "    plt.title(f\"Correlation Matrix: {i}\")\n",
    "    plt.show()\n",
    "\n",
    "    # Convertir la matriz a tabla larga (pares de variables)\n",
    "    corr_pairs = corr_matrix.unstack().reset_index()\n",
    "    corr_pairs.columns = [\"Variable_1\", \"Variable_2\", \"Correlation\"]\n",
    "\n",
    "    # Eliminar duplicados (matriz es simétrica) y auto-correlaciones (corr=1)\n",
    "    corr_pairs = corr_pairs[corr_pairs[\"Variable_1\"] < corr_pairs[\"Variable_2\"]]\n",
    "\n",
    "    # Filtrar condiciones: mayor a 0.9 o menor a 0.25\n",
    "    filtered_corr = corr_pairs[\n",
    "        (corr_pairs[\"Correlation\"] > 0.9) | (corr_pairs[\"Correlation\"] < 0.25)\n",
    "    ]\n",
    "    # Agregar columna con el nombre del archivo (sin .xlsx si quieres)\n",
    "    nombre = Path(i).stem  # sin extensión\n",
    "\n",
    "    # Mostrar tabla con título\n",
    "    display.display(filtered_corr.style.set_caption(f\"Correlaciones destacadas - {nombre}\"))\n"
   ]
  }
 ],
 "metadata": {
  "language_info": {
   "name": "python"
  }
 },
 "nbformat": 4,
 "nbformat_minor": 5
}
