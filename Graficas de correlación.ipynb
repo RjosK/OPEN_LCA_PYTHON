{
 "cells": [
  {
   "cell_type": "code",
   "execution_count": null,
   "id": "9ebf14e6",
   "metadata": {},
   "outputs": [],
   "source": [
    "import polar as pl\n",
    "import pandas as pd\n",
    "import matplotlib.pyplot as plt\n",
    "import seaborn as sns"
   ]
  },
  {
   "cell_type": "markdown",
   "id": "9e64cf4c",
   "metadata": {},
   "source": [
    "Se hace hace una grafica de correlación con las categorias de Minpoint H, usando cada una de las carpetas que hay ECOINVENT "
   ]
  },
  {
   "cell_type": "code",
   "execution_count": null,
   "id": "4583cf2c",
   "metadata": {},
   "outputs": [],
   "source": [
    "# Ruta a tu Excel\n",
    "ruta_excel = \"H Transportation and storage.xlsx\"\n",
    "excel_hojas = [\"H Transportation\"]"
   ]
  },
  {
   "cell_type": "code",
   "execution_count": null,
   "id": "ffbf028a",
   "metadata": {},
   "outputs": [],
   "source": [
    "hojas = [excel_hojas[0]]"
   ]
  },
  {
   "cell_type": "code",
   "execution_count": null,
   "id": "899e9daf",
   "metadata": {},
   "outputs": [],
   "source": [
    "df = pl.read_excel(ruta_excel, sheet_name=excel_hojas[0])\n",
    "\n",
    "columnas_no_numericas = [\"Name\", \"id\", \"ubi\"]\n",
    "columnas_numericas = [c for c in df.columns if c not in columnas_no_numericas]\n",
    "\n",
    "df_pd = df.to_pandas()"
   ]
  },
  {
   "cell_type": "code",
   "execution_count": null,
   "id": "7602a796",
   "metadata": {},
   "outputs": [],
   "source": [
    "# Filtrar outliers (IQR) solo en columnas numéricas ---\n",
    "Q1 = df_pd[columnas_numericas].quantile(0.25)\n",
    "Q3 = df_pd[columnas_numericas].quantile(0.75)\n",
    "IQR = Q3 - Q1\n",
    "\n",
    "mask = ((df_pd[columnas_numericas] >= (Q1 - 1.5 * IQR)) & (df_pd[columnas_numericas] <= (Q3 + 1.5 * IQR))).all(axis=1)\n",
    "\n",
    "df_filtrado = df_pd[mask]\n",
    "print(\"Filas originales:\", df_pd.shape[0])\n",
    "print(\"Filas después de eliminar outliers:\", df_filtrado.shape[0])"
   ]
  },
  {
   "cell_type": "code",
   "execution_count": null,
   "id": "eb090323",
   "metadata": {},
   "outputs": [],
   "source": [
    "# Calcular correlaciones ---\n",
    "corr_original = df_pd[columnas_numericas].corr(method='pearson')\n",
    "corr_filtrado = df_filtrado[columnas_numericas].corr(method='pearson')"
   ]
  },
  {
   "cell_type": "code",
   "execution_count": null,
   "id": "348b0f48",
   "metadata": {},
   "outputs": [],
   "source": [
    "#Graficar heatmap de datos originales ---\n",
    "plt.figure(figsize=(12, 10))\n",
    "sns.heatmap(corr_original, annot=True, cmap='rainbow', center=0, square=True, fmt=\".2f\", linewidths=0.5)\n",
    "plt.title(\"Matriz de Correlación - Datos Originales\", fontsize=14)\n",
    "plt.savefig(f\"{hojas}_1_scatter.png\", dpi=300, bbox_inches=\"tight\")\n",
    "plt.show()"
   ]
  },
  {
   "cell_type": "code",
   "execution_count": null,
   "id": "c7782213",
   "metadata": {},
   "outputs": [],
   "source": [
    "#Graficar heatmap de datos filtrados ---\n",
    "plt.figure(figsize=(12, 10))\n",
    "sns.heatmap(corr_filtrado, annot=True, cmap='rainbow', center=0, square=True, fmt=\".2f\", linewidths=0.5)\n",
    "plt.title(\"Matriz de Correlación - Datos Filtrados (sin outliers)\", fontsize=14)\n",
    "plt.savefig(f\"{hojas}_2_scatter.png\", dpi=300, bbox_inches=\"tight\")\n",
    "plt.show()"
   ]
  }
 ],
 "metadata": {
  "language_info": {
   "name": "python"
  }
 },
 "nbformat": 4,
 "nbformat_minor": 5
}
