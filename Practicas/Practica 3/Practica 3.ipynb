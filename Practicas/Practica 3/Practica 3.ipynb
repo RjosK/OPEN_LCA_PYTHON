{
 "cells": [
  {
   "cell_type": "code",
   "execution_count": null,
   "id": "a7264bdb",
   "metadata": {},
   "outputs": [],
   "source": [
    "import olca_ipc as ipc\n",
    "import olca_schema as schema\n",
    "import pandas as pd\n",
    "client = ipc.Client(8080)\n",
    "client"
   ]
  },
  {
   "cell_type": "code",
   "execution_count": null,
   "id": "550df17b",
   "metadata": {},
   "outputs": [],
   "source": [
    "# Cargar el archivo Excel (reemplaza 'archivo.xlsx' con el nombre de tu archivo)\n",
    "archivo_excel = \"prueba.xlsx\"  # Asegúrate de que el archivo esté en el mismo directorio que tu notebook\n",
    "df = pd.read_excel(archivo_excel)"
   ]
  },
  {
   "cell_type": "code",
   "execution_count": null,
   "id": "df447df0",
   "metadata": {},
   "outputs": [],
   "source": [
    "# Seleccionar las primeras 6 filas y columnas de la 'A' a la 'F'\n",
    "df_filtrado = df.iloc[:8, :6]\n",
    "\n",
    "# Mostrar los datos filtrados\n",
    "print(df_filtrado)\n"
   ]
  },
  {
   "cell_type": "code",
   "execution_count": null,
   "id": "d6395545",
   "metadata": {},
   "outputs": [],
   "source": [
    "for index, row in df_filtrado.iterrows():\n",
    "    # Obtener la propiedad de flujo desde la base de datos\n",
    "    flow_property_ref = client.get(schema.FlowProperty, name=row[\"Property ref:name\"])\n",
    "\n",
    "    # Crear el FlowPropertyFactor\n",
    "    flow_property_factor = schema.FlowPropertyFactor(\n",
    "        flow_property=flow_property_ref,\n",
    "        conversion_factor=1.0,\n",
    "        is_ref_flow_property=True\n",
    "    )\n",
    "\n",
    "    # Crear el flujo\n",
    "    material_flow = schema.Flow()\n",
    "    material_flow.name = row[\"Nombre\"]\n",
    "    material_flow.description = row[\"Description\"]\n",
    "    material_flow.flow_type = schema.FlowType[row[\"Flow type\"]]\n",
    "    material_flow.flow_properties = [flow_property_factor]  # ✅ Asegurar que se asigna correctamente\n",
    "    material_flow.category = row[\"Category\"]\n",
    "\n",
    "    # Guardar el flujo en la base de datos\n",
    "    client.put(material_flow)\n",
    "\n",
    "    print(f\"✅ Flujo '{material_flow.name}'\")"
   ]
  },
  {
   "cell_type": "code",
   "execution_count": null,
   "id": "777e3533",
   "metadata": {},
   "outputs": [],
   "source": [
    "df_p = pd.read_excel(archivo_excel)\n",
    "df_p_filtrado = df_p.iloc[:8, 15:21]\n",
    "\n",
    "# Mostrar los datos filtrados\n",
    "print(df_p_filtrado)"
   ]
  },
  {
   "cell_type": "code",
   "execution_count": null,
   "id": "9ddef38f",
   "metadata": {},
   "outputs": [],
   "source": [
    "for index, row in df_p_filtrado.iterrows():\n",
    "    if pd.isna(row[\"name\"]):\n",
    "        continue  # Saltar filas sin nombre de proceso\n",
    "\n",
    "    # Obtener la unidad de masa (gramos) del grupo de unidades de masa\n",
    "    unit_group = client.get(schema.UnitGroup, name=\"Units of mass\")\n",
    "    gram_unit = next((u for u in unit_group.units if u.name == row[\"Unit.1\"]), None)\n",
    "\n",
    "    # Crear el proceso\n",
    "    _process = schema.Process()\n",
    "    _process.name = row[\"name\"]\n",
    "    _process.description = \"Proceso generado automáticamente\"\n",
    "    _process.process_type = schema.ProcessType.UNIT_PROCESS\n",
    "    _process.category = row[\"category\"]\n",
    "    _process.exchanges = []\n",
    "\n",
    "    # Crear el intercambio (flujo)\n",
    "    exchange = schema.Exchange()\n",
    "    exchange.is_input = row[\"in/out.1\"]  # Determina si es input o output\n",
    "    exchange.flow = client.get(schema.Flow, name=row[\"flow\"])  # Obtener el flujo\n",
    "    exchange.flow_property = schema.Ref(name=row[\"flow\"])  # Asignar FlowProperty\n",
    "    exchange.amount = row[\"Amount.1\"]  # Definir la cantidad desde el DataFrame\n",
    "    exchange.is_quantitative_reference = not row[\"in/out.1\"]  # Output como referencia\n",
    "    exchange.unit = gram_unit  # Asignar la unidad recuperada\n",
    "\n",
    "    # Agregar el flujo al proceso\n",
    "    _process.exchanges.append(exchange)\n",
    "\n",
    "    # Guardar el proceso en la base de datos\n",
    "    client.put(_process)\n",
    "\n",
    "    print(f\"✅ Proceso '{_process.name}' creado exitosamente\")"
   ]
  },
  {
   "cell_type": "code",
   "execution_count": null,
   "id": "846d75f3",
   "metadata": {},
   "outputs": [],
   "source": [
    "df_p = pd.read_excel(archivo_excel)\n",
    "df_p_filtrado = df_p.iloc[:20, 8:14]\n",
    "\n",
    "# Mostrar los datos filtrados\n",
    "print(df_p_filtrado)"
   ]
  },
  {
   "cell_type": "code",
   "execution_count": null,
   "id": "2ece5dd2",
   "metadata": {},
   "outputs": [],
   "source": [
    "for index, row in df_p_filtrado.iterrows():\n",
    "    if pd.isna(row[\"Proceso\"]):\n",
    "        continue  # Saltar filas sin nombre de proceso\n",
    "\n",
    "    # Obtener el proceso existente\n",
    "    _process = client.get(schema.Process, name=row[\"Proceso\"])\n",
    "    if not _process:\n",
    "        print(f\"⚠️ Proceso '{row['Proceso']}' no encontrado\")\n",
    "        continue\n",
    "\n",
    "    # Obtener la unidad correspondiente\n",
    "    unit_group = client.get(schema.UnitGroup, name=\"Units of mass\")\n",
    "    gram_unit = next((u for u in unit_group.units if u.name == row[\"Unit\"]), None)\n",
    "\n",
    "    # Crear el intercambio (flujo de entrada)\n",
    "    exchange = schema.Exchange()\n",
    "    exchange.is_input = row[\"in/out\"]  # Es un input\n",
    "    exchange.flow = client.get(schema.Flow, name=row[\"Flow\"])  # Obtener el flujo\n",
    "    exchange.flow_property = schema.Ref(name=row[\"Flow\"])  # Asignar FlowProperty\n",
    "    exchange.amount = row[\"Amount\"]  # Definir la cantidad desde el DataFrame\n",
    "    exchange.is_quantitative_reference = False  # Input no es referencia\n",
    "    exchange.unit = gram_unit  # Asignar la unidad recuperada\n",
    "    exchange.default_provider =  client.get(schema.Process, name= row[\"provedor \"] )\n",
    "    \n",
    "    # Verificar si el flujo ya está en el proceso para evitar duplicados\n",
    "    existing_flows = [ex.flow.name for ex in _process.exchanges]\n",
    "    if row[\"Flow\"] not in existing_flows:\n",
    "        _process.exchanges.append(exchange)\n",
    "    else:\n",
    "        print(f\"🔄 El flujo '{row['Flow']}' ya está en el proceso '{_process.name}', se omite duplicado.\")\n",
    "\n",
    "    # Guardar el proceso actualizado en la base de datos\n",
    "    client.put(_process)\n",
    "\n",
    "    print(f\"✅ Input agregado al proceso '{_process.name}'\")"
   ]
  },
  {
   "cell_type": "code",
   "execution_count": null,
   "id": "5e2028d3",
   "metadata": {},
   "outputs": [],
   "source": [
    "df_p = pd.read_excel(archivo_excel)\n",
    "df_p_filtrado = df_p.iloc[:2, 22:23]\n",
    "\n",
    "# Mostrar los datos filtrados\n",
    "print(df_p_filtrado)"
   ]
  },
  {
   "cell_type": "code",
   "execution_count": null,
   "id": "657d2f4f",
   "metadata": {},
   "outputs": [],
   "source": [
    "for index, row in df_p_filtrado.iterrows():\n",
    "    process_ref = client.get_descriptor(schema.Process, name=row[\"Sistema_producto\"])\n",
    "    config = schema.LinkingConfig(prefer_unit_processes=True, provider_linking=schema.ProviderLinking.PREFER_DEFAULTS)\n",
    "    product_system_ref = client.create_product_system(process_ref, config)\n",
    "    product_system_ref\n",
    "\n",
    "    impact_method_ref = client.get_descriptor(schema.ImpactMethod, '2e5cd15d-d539-3141-a950-56d75df9d579')\n",
    "    setup = schema.CalculationSetup(target=product_system_ref, impact_method=impact_method_ref)\n",
    "    result = client.calculate(setup)\n",
    "\n",
    "    state = result.wait_until_ready()\n",
    "    print(f\"result id: {state.id}\")\n",
    "\n",
    "    for impact in result.get_total_impacts():\n",
    "        print(f\"{impact.impact_category.name}: {impact.amount} {impact.impact_category.ref_unit}\")"
   ]
  }
 ],
 "metadata": {
  "language_info": {
   "name": "python"
  }
 },
 "nbformat": 4,
 "nbformat_minor": 5
}
