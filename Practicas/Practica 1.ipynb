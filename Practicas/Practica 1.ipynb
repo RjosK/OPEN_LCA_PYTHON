{
 "cells": [
  {
   "cell_type": "markdown",
   "id": "d5bf203a",
   "metadata": {},
   "source": [
    "En esta primera practica lo que se busca es calculas las huellas hidrica, energetica y de GEI, de un proceso determinado. \n",
    "\n",
    "Hay algunas cosas que ya vienen explicitas en la presentación anterior por lo cual si tienen dudas soo consultenlas en alguna de las presentaciones que les deje. \n",
    "\n",
    "Para no tener inconvenientes con las versiones de bases de datos les dejo el link de la base de datos que usamos: https://nexus.openlca.org/database/ELCD "
   ]
  },
  {
   "cell_type": "code",
   "execution_count": null,
   "id": "dca94e41",
   "metadata": {},
   "outputs": [],
   "source": [
    "#Estos dos primeros modulos son con los que trabajamos dentro de OPEN LCA\n",
    "import olca_ipc as ipc\n",
    "import olca_schema as schema\n",
    "\n",
    "import pandas as pd\n",
    "from IPython.display import display\n",
    "\n",
    "#Estos ultimos dos son con los cuales hacemos la conexion a OpenLCA\n",
    "client = ipc.Client(8080)\n",
    "client"
   ]
  },
  {
   "cell_type": "code",
   "execution_count": null,
   "id": "fb99e540",
   "metadata": {},
   "outputs": [],
   "source": [
    "# Paso 1: Obtener el proceso\n",
    "process_obj = client.get(schema.Process, name=\"Hydrogen chloride gas (HCl), production mix for PVC production, at plant\")\n",
    "# Paso 2: Obtener los inputs del proceso \n",
    "filtered_inputs = [exc for exc in process_obj.exchanges if exc.is_input]"
   ]
  },
  {
   "cell_type": "code",
   "execution_count": null,
   "id": "b7232480",
   "metadata": {},
   "outputs": [],
   "source": [
    "# Diccionario con los filtros que deseas aplicar\n",
    "flow_filters = {\n",
    "    \"Water inputs\": [exc for exc in filtered_inputs if 'water' in exc.flow.name.lower() and exc.flow.name != \"Energy, primary, from water power\"],\n",
    "    \"Energy inputs\": [exc for exc in filtered_inputs if 'energy' in exc.flow.name.lower() and exc.flow.name != \"energy (recovered)\"],\n",
    "    \"CO2 inputs\" : [exc for exc in process_obj.exchanges if not exc.is_input and ('carbon dioxide' in exc.flow.name.lower() or 'Methane' in exc.flow.name and exc.flow.name != \"Methane, dichloro-, HCC-30\")]\n",
    "\n",
    "}\n",
    "\n",
    "# Diccionario para guardar los DataFrames resultantes\n",
    "df_results = {}\n",
    "\n",
    "for label, flows in flow_filters.items():\n",
    "    df = pd.DataFrame([{\n",
    "        \"Process\": process_obj.name,\n",
    "        \"Name\": exc.flow.name,\n",
    "        \"Amount\": exc.amount\n",
    "    } for exc in flows])\n",
    "\n",
    "    # Agregar la fila con el total\n",
    "    total_row = pd.DataFrame([{\n",
    "        \"Process\": \"\",\n",
    "        \"Name\": f\"Total {label.lower()}\",\n",
    "        \"Amount\": df['Amount'].sum()\n",
    "    }])\n",
    "\n",
    "    df = pd.concat([df, total_row], ignore_index=True)\n",
    "    \n",
    "    # Guardar resultado\n",
    "    df_results[label] = df\n",
    "\n",
    "# Mostrar los resultados\n",
    "for label, df in df_results.items():\n",
    "    print(f\"\\n--- {label} ---\")\n",
    "    display(df)  # Usar print(df) si no estás en Jupyter"
   ]
  },
  {
   "cell_type": "code",
   "execution_count": null,
   "id": "551ccf5e",
   "metadata": {},
   "outputs": [],
   "source": [
    "flujo_a_modificar = \"Methane\"  # Nombre del flujo a modificar\n",
    "factor_multiplicador = 28 # Factor por el cual quieres multiplicar la cantidad\n",
    "# Acceder a la tabla que quieres modificar\n",
    "df_CO2 = df_results[\"CO2 inputs\"]\n",
    "\n",
    "\n",
    "df_CO2 .loc[df_CO2 [\"Name\"] == flujo_a_modificar, \"Amount\"] *= factor_multiplicador\n",
    "df_CO2 .loc[df_CO2 [\"Name\"].str.startswith(\"Total\"), \"Amount\"] = df_CO2 [:-1]['Amount'].sum()# Actualizar \n",
    "\n",
    "\n",
    "df_results[\"CO2 inputs\"] = df_CO2 \n",
    "df_CO2 # Mostrar la tabla modificada"
   ]
  },
  {
   "cell_type": "code",
   "execution_count": null,
   "id": "8bb56f95",
   "metadata": {},
   "outputs": [],
   "source": [
    "with pd.ExcelWriter(\"_inputs_combined.xlsx\", engine=\"xlsxwriter\") as writer:\n",
    "    row = 0  # Fila inicial\n",
    "\n",
    "    for name, df in df_results.items():\n",
    "        # Mostrar el nombre y la tabla en la notebook\n",
    "        print(f\"\\nTabla: {name}\")\n",
    "        display(df)\n",
    "\n",
    "        # Escribir el título en Excel\n",
    "        df_title = pd.DataFrame({name: []})  # Título como encabezado\n",
    "        df_title.to_excel(writer, sheet_name=\"Summary\", startrow=row, index=False, header=False)\n",
    "        row += 1\n",
    "\n",
    "        # Escribir el DataFrame en Excel\n",
    "        df.to_excel(writer, sheet_name=\"Summary\", startrow=row, index=False)\n",
    "        row += len(df) + 2  # Dejar espacio\n"
   ]
  }
 ],
 "metadata": {
  "language_info": {
   "name": "python"
  }
 },
 "nbformat": 4,
 "nbformat_minor": 5
}
