{
 "cells": [
  {
   "cell_type": "code",
   "execution_count": null,
   "id": "5ee3429a",
   "metadata": {},
   "outputs": [],
   "source": [
    "import olca_ipc as ipc\n",
    "import olca_schema as schema\n",
    "import pandas as pd\n",
    "client = ipc.Client(8080)\n",
    "client"
   ]
  },
  {
   "cell_type": "code",
   "execution_count": null,
   "id": "bd4952a3",
   "metadata": {},
   "outputs": [],
   "source": [
    "archivo_excel = \"practica.xlsx\" \n",
    "df = pd.read_excel(archivo_excel)"
   ]
  },
  {
   "cell_type": "code",
   "execution_count": null,
   "id": "c59b9b7d",
   "metadata": {},
   "outputs": [],
   "source": [
    "# Obtener la propiedad de flujo desde la base de datos\n",
    "flow_property_ref = client.get(schema.FlowProperty, name= \"Number of items\")\n",
    "\n",
    "# Crear el FlowPropertyFactor\n",
    "flow_property_factor = schema.FlowPropertyFactor(\n",
    "        flow_property=flow_property_ref,\n",
    "        conversion_factor=1.0,\n",
    "        is_ref_flow_property=True\n",
    "    )\n",
    "\n",
    "    # Crear el flujo\n",
    "material_flow = schema.Flow()\n",
    "material_flow.name = \"Material_flow\"\n",
    "#material_flow.description = \n",
    "material_flow.flow_type = schema.FlowType[\"PRODUCT_FLOW\"]\n",
    "material_flow.flow_properties = [flow_property_factor]  # ✅ Asegurar que se asigna correctamente\n",
    "material_flow.category = \"Practica 2\"\n",
    "\n",
    "# Guardar el flujo en la base de datos\n",
    "client.put(material_flow)\n",
    "\n",
    "print(f\"✅ Flujo '{material_flow.name}'\")"
   ]
  },
  {
   "cell_type": "code",
   "execution_count": null,
   "id": "98ea2b3c",
   "metadata": {},
   "outputs": [],
   "source": [
    "# Crear el proceso\n",
    "_process = schema.Process()\n",
    "_process.name = \"Material_Process\"\n",
    "#_process.description = \"Proceso generado automáticamente\"\n",
    "_process.process_type = schema.ProcessType.UNIT_PROCESS\n",
    "_process.category = \"Practica 2\"\n",
    "_process.exchanges = []\n",
    "\n",
    "# Crear el intercambio (flujo)\n",
    "exchange = schema.Exchange()\n",
    "exchange.is_input = False  # Determina si es input o output\n",
    "exchange.flow = client.get(schema.Flow, name=\"Material_flow\")  # Obtener el flujo\n",
    "exchange.flow_property = schema.Ref(name=\"Material_flow\")  # Asignar FlowProperty\n",
    "exchange.amount = 1  # Definir la cantidad desde el DataFrame\n",
    "exchange.is_quantitative_reference = not False # Output como referencia\n",
    "\n",
    "# Agregar el flujo al proceso\n",
    "_process.exchanges.append(exchange)\n",
    "\n",
    "# Guardar el proceso en la base de datos\n",
    "client.put(_process)\n",
    "\n",
    "print(f\"✅ Proceso '{_process.name}' creado exitosamente\")"
   ]
  },
  {
   "cell_type": "code",
   "execution_count": null,
   "id": "6a6c2849",
   "metadata": {},
   "outputs": [],
   "source": [
    "df_p = pd.read_excel(archivo_excel)\n",
    "df_p_filtrado = df_p.iloc[:4, 0:8]\n",
    "\n",
    "# Mostrar los datos filtrados\n",
    "print(df_p_filtrado)"
   ]
  },
  {
   "cell_type": "code",
   "execution_count": null,
   "id": "cab91bd4",
   "metadata": {},
   "outputs": [],
   "source": [
    "for index, row in df_p_filtrado.iterrows():\n",
    "\n",
    "    if pd.isna(row[\"name\"]):\n",
    "        continue  # Saltar filas sin nombre de proceso\n",
    "\n",
    "    # Obtener el proceso existente\n",
    "    _process = client.get(schema.Process, name=\"Material_Process\")\n",
    "    \n",
    "    # Obtener la unidad correspondiente\n",
    "    unit_group = client.get(schema.UnitGroup, name=\"Units of mass\")\n",
    "    gram_unit = next((u for u in unit_group.units if u.name == row[\"unit\"]), None)\n",
    "\n",
    "        # Crear el intercambio (flujo de entrada)\n",
    "    exchange = schema.Exchange()\n",
    "    exchange.is_input = True # Es un input\n",
    "    exchange.flow = client.get(schema.Flow, uid=row[\"uuid\"])  # Obtener el flujo\n",
    "    exchange.flow_property = schema.Ref(id=row[\"uuid\"])  # Asignar FlowProperty\n",
    "    exchange.amount = row[\"amount\"]  # Definir la cantidad desde el DataFrame\n",
    "    exchange.is_quantitative_reference = False  # Input no es referencia\n",
    "    exchange.unit = gram_unit  # Asignar la unidad recuperada\n",
    "\n",
    "    # Verificar si el flujo ya está en el proceso para evitar duplicados\n",
    "    existing_flows = [ex.flow.name for ex in _process.exchanges]\n",
    "    if row[\"uuid\"] not in existing_flows:\n",
    "        _process.exchanges.append(exchange)\n",
    "    else:\n",
    "        print(f\"🔄 El flujo '{row['Flow']}' ya está en el proceso '{_process.name}', se omite duplicado.\")\n",
    "\n",
    "    # Guardar el proceso actualizado en la base de datos\n",
    "    client.put(_process)\n",
    "\n",
    "    print(f\"✅ Input: '{exchange.flow}' agregado al proceso '{_process.name}'\")"
   ]
  },
  {
   "cell_type": "code",
   "execution_count": null,
   "id": "d9ca4855",
   "metadata": {},
   "outputs": [],
   "source": [
    "process_ref = client.get_descriptor(schema.Process, name='Material_Process')\n",
    "config = schema.LinkingConfig(prefer_unit_processes=True, provider_linking=schema.ProviderLinking.PREFER_DEFAULTS)\n",
    "product_system_ref = client.create_product_system(process_ref, config)\n",
    "product_system_ref\n",
    "\n",
    "impact_method_ref = client.get_descriptor(schema.ImpactMethod, '2e5cd15d-d539-3141-a950-56d75df9d579')\n",
    "setup = schema.CalculationSetup(target=product_system_ref, impact_method=impact_method_ref)\n",
    "result = client.calculate(setup)\n",
    "\n",
    "state = result.wait_until_ready()\n",
    "print(f\"result id: {state.id}\")\n",
    "\n",
    "for impact in result.get_total_impacts():\n",
    "\tprint(f\"{impact.impact_category.name}: {impact.amount} {impact.impact_category.ref_unit}\")"
   ]
  },
  {
   "cell_type": "code",
   "execution_count": null,
   "id": "2ec27543",
   "metadata": {},
   "outputs": [],
   "source": []
  }
 ],
 "metadata": {
  "language_info": {
   "name": "python"
  }
 },
 "nbformat": 4,
 "nbformat_minor": 5
}
